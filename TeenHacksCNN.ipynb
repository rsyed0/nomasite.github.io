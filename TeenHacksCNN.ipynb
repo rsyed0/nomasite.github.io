{
  "nbformat": 4,
  "nbformat_minor": 0,
  "metadata": {
    "colab": {
      "name": "TeenHacksCNN.ipynb",
      "version": "0.3.2",
      "provenance": [],
      "collapsed_sections": []
    },
    "kernelspec": {
      "name": "python3",
      "display_name": "Python 3"
    },
    "accelerator": "GPU"
  },
  "cells": [
    {
      "metadata": {
        "id": "k6hWnVAZ8btJ",
        "colab_type": "code",
        "colab": {}
      },
      "cell_type": "code",
      "source": [
        "import keras\n",
        "from tensorflow.python.client import device_lib\n",
        "#print(device_lib.list_local_devices())"
      ],
      "execution_count": 0,
      "outputs": []
    },
    {
      "metadata": {
        "id": "0Q5WSXnP8lQM",
        "colab_type": "code",
        "colab": {}
      },
      "cell_type": "code",
      "source": [
        "from keras.models import Sequential\n",
        "from keras.layers import Conv2D, MaxPooling2D\n",
        "from keras.layers import Activation, Dropout, Flatten, Dense\n",
        "import keras\n",
        "\n",
        "layers=4\n",
        "model = Sequential()\n",
        "model.add(Conv2D(32, (3, 3), input_shape=(1022,767,3)))\n",
        "model.add(Activation('relu'))\n",
        "model.add(MaxPooling2D(pool_size=(2, 2)))\n",
        "\n",
        "for i in range(layers-1):\n",
        "    model.add(Conv2D(64, (3, 3)))\n",
        "    model.add(Activation('relu'))\n",
        "    model.add(MaxPooling2D(pool_size=(2, 2)))\n",
        "    \n",
        "model.add(Flatten()) \n",
        "model.add(Dense(64))\n",
        "model.add(Activation('relu'))\n",
        "model.add(Dropout(0.5))\n",
        "model.add(Dense(1,name=\"output\"))\n",
        "model.add(Activation('sigmoid'))\n",
        "\n",
        "model.compile(loss='binary_crossentropy',\n",
        "              optimizer='adam',\n",
        "              metrics=['accuracy'])"
      ],
      "execution_count": 0,
      "outputs": []
    },
    {
      "metadata": {
        "id": "_phpr56N9xed",
        "colab_type": "code",
        "colab": {
          "base_uri": "https://localhost:8080/",
          "height": 34
        },
        "outputId": "3df9a6d5-3444-4db0-ebaf-c084a1174840"
      },
      "cell_type": "code",
      "source": [
        "#Get the images into google colab here\n",
        "import os\n",
        "!git clone https://github.com/RohitTanikella/SkinImages"
      ],
      "execution_count": 12,
      "outputs": [
        {
          "output_type": "stream",
          "text": [
            "fatal: destination path 'SkinImages' already exists and is not an empty directory.\n"
          ],
          "name": "stdout"
        }
      ]
    },
    {
      "metadata": {
        "id": "vrURVjjdZAyv",
        "colab_type": "code",
        "colab": {
          "base_uri": "https://localhost:8080/",
          "height": 34
        },
        "outputId": "af8da8a4-69fc-4254-dc2e-e9fa4fd6c52a"
      },
      "cell_type": "code",
      "source": [
        "import os\n",
        "os.listdir('SkinImages/Data')"
      ],
      "execution_count": 13,
      "outputs": [
        {
          "output_type": "execute_result",
          "data": {
            "text/plain": [
              "['Train', '.DS_Store', 'Validate']"
            ]
          },
          "metadata": {
            "tags": []
          },
          "execution_count": 13
        }
      ]
    },
    {
      "metadata": {
        "id": "CLmuvcfCUlj3",
        "colab_type": "code",
        "colab": {
          "base_uri": "https://localhost:8080/",
          "height": 54
        },
        "outputId": "332159c7-af38-44c6-cc60-e12589f3d90c"
      },
      "cell_type": "code",
      "source": [
        "\"\"\"import shutil\n",
        "import json\n",
        "path='SkinImages/Data'\n",
        "imgs=os.listdir(path+'/Images')\n",
        "descriptions=os.listdir(path+'/Descriptions')\n",
        "#print(imgs[0])\n",
        "#print(descriptions[0])\n",
        "\n",
        "try:\n",
        "    os.mkdir(path+\"/Train\")\n",
        "    os.mkdir(path+\"/Train/benign\")\n",
        "    os.mkdir(path+\"/Train/malignant\")\n",
        "    os.mkdir(path+\"/Validate\")\n",
        "    os.mkdir(path+\"/Validate/benign\")\n",
        "    os.mkdir(path+\"/Validate/malignant\")\n",
        "except:\n",
        "    pass\n",
        "\n",
        "#TRAIN\n",
        "count=0\n",
        "for image in imgs[0:int(0.8*len(imgs))]:\n",
        "    description=image[:-4]\n",
        "    with open(path+'/Descriptions/'+description,'r') as f:\n",
        "        diagnosis=json.load(f)['meta']['clinical']['benign_malignant']\n",
        "        if diagnosis=='malignant':\n",
        "            shutil.copyfile(path+'/Images/'+image,path+\"/Train/malignant/\"+image)\n",
        "            count+=1\n",
        "        else:\n",
        "            shutil.move(path+'/Images/'+image,path+\"/Train/benign/\"+image)\n",
        "print(count/len(imgs[0:int(0.8*len(imgs))]))\n",
        "\n",
        "#VALIDATE\n",
        "count=0\n",
        "for image in imgs[int(0.8*len(imgs)):len(imgs)-1:]:\n",
        "    description=image[:-4]\n",
        "    with open(path+'/Descriptions/'+description,'r') as f:\n",
        "        diagnosis=json.load(f)['meta']['clinical']['benign_malignant']\n",
        "        if diagnosis=='malignant':\n",
        "            shutil.copyfile(path+'/Images/'+image,path+\"/Validate/malignant/\"+image)\n",
        "            count+=1\n",
        "        else:\n",
        "            shutil.copyfile(path+'/Images/'+image,path+\"/Validate/benign/\"+image)\n",
        "            \n",
        "print(count/len(imgs[int(0.8*len(imgs)):len(imgs)-1:]))\"\"\""
      ],
      "execution_count": 0,
      "outputs": [
        {
          "output_type": "execute_result",
          "data": {
            "text/plain": [
              "'import shutil\\nimport json\\npath=\\'SkinImages/Data\\'\\nimgs=os.listdir(path+\\'/Images\\')\\ndescriptions=os.listdir(path+\\'/Descriptions\\')\\n#print(imgs[0])\\n#print(descriptions[0])\\n\\ntry:\\n    os.mkdir(path+\"/Train\")\\n    os.mkdir(path+\"/Train/benign\")\\n    os.mkdir(path+\"/Train/malignant\")\\n    os.mkdir(path+\"/Validate\")\\n    os.mkdir(path+\"/Validate/benign\")\\n    os.mkdir(path+\"/Validate/malignant\")\\nexcept:\\n    pass\\n\\n#TRAIN\\ncount=0\\nfor image in imgs[0:int(0.8*len(imgs))]:\\n    description=image[:-4]\\n    with open(path+\\'/Descriptions/\\'+description,\\'r\\') as f:\\n        diagnosis=json.load(f)[\\'meta\\'][\\'clinical\\'][\\'benign_malignant\\']\\n        if diagnosis==\\'malignant\\':\\n            shutil.copyfile(path+\\'/Images/\\'+image,path+\"/Train/malignant/\"+image)\\n            count+=1\\n        else:\\n            shutil.move(path+\\'/Images/\\'+image,path+\"/Train/benign/\"+image)\\nprint(count/len(imgs[0:int(0.8*len(imgs))]))\\n\\n#VALIDATE\\ncount=0\\nfor image in imgs[int(0.8*len(imgs)):len(imgs)-1:]:\\n    description=image[:-4]\\n    with open(path+\\'/Descriptions/\\'+description,\\'r\\') as f:\\n        diagnosis=json.load(f)[\\'meta\\'][\\'clinical\\'][\\'benign_malignant\\']\\n        if diagnosis==\\'malignant\\':\\n            shutil.copyfile(path+\\'/Images/\\'+image,path+\"/Validate/malignant/\"+image)\\n            count+=1\\n        else:\\n            shutil.copyfile(path+\\'/Images/\\'+image,path+\"/Validate/benign/\"+image)\\n            \\nprint(count/len(imgs[int(0.8*len(imgs)):len(imgs)-1:]))'"
            ]
          },
          "metadata": {
            "tags": []
          },
          "execution_count": 59
        }
      ]
    },
    {
      "metadata": {
        "id": "HtTtONQHWHSW",
        "colab_type": "code",
        "colab": {}
      },
      "cell_type": "code",
      "source": [
        "import tensorflow as tf\n",
        "import keras\n",
        "config = tf.ConfigProto()\n",
        "config.gpu_options.allow_growth = True\n",
        "sess = tf.Session(config=config)\n",
        "sess.run(tf.global_variables_initializer())\n",
        "keras.backend.set_session(sess)"
      ],
      "execution_count": 0,
      "outputs": []
    },
    {
      "metadata": {
        "id": "EfQ78SPz88Mn",
        "colab_type": "code",
        "colab": {
          "base_uri": "https://localhost:8080/",
          "height": 391
        },
        "outputId": "12313dd9-c59c-48c3-f3d7-90ec3d52c49a"
      },
      "cell_type": "code",
      "source": [
        "from keras.preprocessing.image import ImageDataGenerator\n",
        "\n",
        "path='SkinImages/Data'\n",
        "augment=True\n",
        "training_dir=path+'/Train'\n",
        "validation_dir=path+'/Validate'\n",
        "batch_size=16\n",
        "epochs=10\n",
        "\n",
        "if augment:\n",
        "    train_datagen = ImageDataGenerator(\n",
        "        rescale=1./255,\n",
        "        shear_range=0.2,\n",
        "        zoom_range=0.2,\n",
        "        horizontal_flip=True)\n",
        "else:\n",
        "    train_datagen = ImageDataGenerator(\n",
        "        rescale=1./255)\n",
        "\n",
        "test_datagen = ImageDataGenerator(rescale=1./255)\n",
        "\n",
        "train_generator = train_datagen.flow_from_directory(\n",
        "        training_dir,\n",
        "        batch_size=batch_size,\n",
        "        target_size=(1022, 767),\n",
        "        class_mode='binary')  \n",
        "\n",
        "validation_generator = test_datagen.flow_from_directory(\n",
        "        validation_dir,\n",
        "        batch_size=batch_size,\n",
        "        target_size=(1022, 767),\n",
        "        class_mode='binary')\n",
        "\n",
        "history=model.fit_generator(\n",
        "        train_generator,\n",
        "        steps_per_epoch= train_generator.samples//batch_size,\n",
        "        epochs=epochs,\n",
        "        validation_data=validation_generator,\n",
        "        validation_steps= validation_generator.samples//batch_size)"
      ],
      "execution_count": 33,
      "outputs": [
        {
          "output_type": "stream",
          "text": [
            "Found 820 images belonging to 2 classes.\n",
            "Found 205 images belonging to 2 classes.\n",
            "Epoch 1/10\n",
            "51/51 [==============================] - 237s 5s/step - loss: 0.4711 - acc: 0.8480 - val_loss: 0.4968 - val_acc: 0.8229\n",
            "Epoch 2/10\n",
            "51/51 [==============================] - 237s 5s/step - loss: 0.4006 - acc: 0.8469 - val_loss: 0.3975 - val_acc: 0.8229\n",
            "Epoch 3/10\n",
            "51/51 [==============================] - 237s 5s/step - loss: 0.4175 - acc: 0.8444 - val_loss: 0.4188 - val_acc: 0.8229\n",
            "Epoch 4/10\n",
            "51/51 [==============================] - 234s 5s/step - loss: 0.3820 - acc: 0.8554 - val_loss: 0.4100 - val_acc: 0.8333\n",
            "Epoch 5/10\n",
            "51/51 [==============================] - 232s 5s/step - loss: 0.3902 - acc: 0.8529 - val_loss: 0.5936 - val_acc: 0.8229\n",
            "Epoch 6/10\n",
            "51/51 [==============================] - 230s 5s/step - loss: 0.4354 - acc: 0.8456 - val_loss: 0.4049 - val_acc: 0.8281\n",
            "Epoch 7/10\n",
            "51/51 [==============================] - 229s 4s/step - loss: 0.4019 - acc: 0.8578 - val_loss: 0.4540 - val_acc: 0.8333\n",
            "Epoch 8/10\n",
            "51/51 [==============================] - 232s 5s/step - loss: 0.4601 - acc: 0.8541 - val_loss: 0.4588 - val_acc: 0.8281\n",
            "Epoch 9/10\n",
            "51/51 [==============================] - 229s 4s/step - loss: 0.6701 - acc: 0.8541 - val_loss: 2.8542 - val_acc: 0.8229\n",
            "Epoch 10/10\n",
            "51/51 [==============================] - 231s 5s/step - loss: 2.3896 - acc: 0.8517 - val_loss: 2.8542 - val_acc: 0.8229\n"
          ],
          "name": "stdout"
        }
      ]
    },
    {
      "metadata": {
        "id": "wFI2nhdTwKA_",
        "colab_type": "code",
        "colab": {
          "base_uri": "https://localhost:8080/",
          "height": 54
        },
        "outputId": "65196956-7b11-4a10-bb3a-ec4ad08e57ae"
      },
      "cell_type": "code",
      "source": [
        "print(history.history)\n",
        "model.save('melanoma.h5')"
      ],
      "execution_count": 27,
      "outputs": [
        {
          "output_type": "stream",
          "text": [
            "{'val_loss': [0.42578959837555885, 0.4437110734482606, 0.43011757420996827, 0.7035805974155664, 0.3912346897025903, 0.518850306669871, 0.4627227981885274, 0.47964715771377087, 2.8542460683868422, 0.38720654509961605], 'val_acc': [0.8229166666666666, 0.8229166666666666, 0.828125, 0.8229166666666666, 0.828125, 0.8229166666666666, 0.828125, 0.8020833333333334, 0.8229166666666666, 0.8229166666666666], 'loss': [0.6238548070637148, 0.5167245261037527, 0.41989779457524046, 0.4233485416541645, 0.6053837471043886, 0.4037956274415723, 0.5046634860892794, 0.5364877912980407, 2.087581346277044, 2.3260311975586245], 'acc': [0.8059701492537313, 0.8507462686567164, 0.8519900497512438, 0.8544776119402985, 0.8395522388059702, 0.8544776119402985, 0.849502487562189, 0.8482587064676617, 0.849502487562189, 0.8529411764705882]}\n"
          ],
          "name": "stdout"
        }
      ]
    },
    {
      "metadata": {
        "id": "PHG6G6oDwm5O",
        "colab_type": "code",
        "colab": {}
      },
      "cell_type": "code",
      "source": [
        "from google.colab import files\n",
        "files.download('melanoma.h5') "
      ],
      "execution_count": 0,
      "outputs": []
    },
    {
      "metadata": {
        "id": "0hpfJb-1x6Yq",
        "colab_type": "code",
        "colab": {}
      },
      "cell_type": "code",
      "source": [
        "import json\n",
        "with open('history.json','w+') as f:\n",
        "  json.dump(history.history,f)\n",
        "files.download('history.json') "
      ],
      "execution_count": 0,
      "outputs": []
    }
  ]
}